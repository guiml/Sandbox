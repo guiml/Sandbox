{
 "cells": [
  {
   "cell_type": "code",
   "execution_count": 2,
   "metadata": {},
   "outputs": [],
   "source": [
    "import pandas as pd"
   ]
  },
  {
   "cell_type": "code",
   "execution_count": 16,
   "metadata": {},
   "outputs": [
    {
     "data": {
      "text/html": [
       "<div>\n",
       "<style scoped>\n",
       "    .dataframe tbody tr th:only-of-type {\n",
       "        vertical-align: middle;\n",
       "    }\n",
       "\n",
       "    .dataframe tbody tr th {\n",
       "        vertical-align: top;\n",
       "    }\n",
       "\n",
       "    .dataframe thead th {\n",
       "        text-align: right;\n",
       "    }\n",
       "</style>\n",
       "<table border=\"1\" class=\"dataframe\">\n",
       "  <thead>\n",
       "    <tr style=\"text-align: right;\">\n",
       "      <th></th>\n",
       "      <th>Ini</th>\n",
       "      <th>Fim</th>\n",
       "    </tr>\n",
       "  </thead>\n",
       "  <tbody>\n",
       "    <tr>\n",
       "      <th>0</th>\n",
       "      <td>40010000</td>\n",
       "      <td>40015999</td>\n",
       "    </tr>\n",
       "    <tr>\n",
       "      <th>1</th>\n",
       "      <td>40020000</td>\n",
       "      <td>40020999</td>\n",
       "    </tr>\n",
       "    <tr>\n",
       "      <th>2</th>\n",
       "      <td>40024000</td>\n",
       "      <td>40024999</td>\n",
       "    </tr>\n",
       "    <tr>\n",
       "      <th>3</th>\n",
       "      <td>40025000</td>\n",
       "      <td>40025999</td>\n",
       "    </tr>\n",
       "    <tr>\n",
       "      <th>4</th>\n",
       "      <td>40026000</td>\n",
       "      <td>40026999</td>\n",
       "    </tr>\n",
       "  </tbody>\n",
       "</table>\n",
       "</div>"
      ],
      "text/plain": [
       "        Ini       Fim\n",
       "0  40010000  40015999\n",
       "1  40020000  40020999\n",
       "2  40024000  40024999\n",
       "3  40025000  40025999\n",
       "4  40026000  40026999"
      ]
     },
     "execution_count": 16,
     "metadata": {},
     "output_type": "execute_result"
    }
   ],
   "source": [
    "df = pd.DataFrame()\n",
    "df['Ini'] = [40010000, 40020000, 40024000, 40025000, 40026000]\n",
    "df['Fim'] = [40015999, 40020999, 40024999, 40025999, 40026999]\n",
    "df"
   ]
  },
  {
   "cell_type": "code",
   "execution_count": 13,
   "metadata": {},
   "outputs": [
    {
     "data": {
      "text/html": [
       "<div>\n",
       "<style scoped>\n",
       "    .dataframe tbody tr th:only-of-type {\n",
       "        vertical-align: middle;\n",
       "    }\n",
       "\n",
       "    .dataframe tbody tr th {\n",
       "        vertical-align: top;\n",
       "    }\n",
       "\n",
       "    .dataframe thead th {\n",
       "        text-align: right;\n",
       "    }\n",
       "</style>\n",
       "<table border=\"1\" class=\"dataframe\">\n",
       "  <thead>\n",
       "    <tr style=\"text-align: right;\">\n",
       "      <th></th>\n",
       "      <th>Ini</th>\n",
       "      <th>Fim</th>\n",
       "    </tr>\n",
       "  </thead>\n",
       "  <tbody>\n",
       "    <tr>\n",
       "      <th>0</th>\n",
       "      <td>40015970</td>\n",
       "      <td>40015975</td>\n",
       "    </tr>\n",
       "  </tbody>\n",
       "</table>\n",
       "</div>"
      ],
      "text/plain": [
       "        Ini       Fim\n",
       "0  40015970  40015975"
      ]
     },
     "execution_count": 13,
     "metadata": {},
     "output_type": "execute_result"
    }
   ],
   "source": [
    "df2 = pd.DataFrame()\n",
    "df2['Ini'] = [40015970]\n",
    "df2['Fim'] = [40015975]\n",
    "df2"
   ]
  },
  {
   "cell_type": "code",
   "execution_count": 89,
   "metadata": {},
   "outputs": [
    {
     "data": {
      "text/html": [
       "<div>\n",
       "<style scoped>\n",
       "    .dataframe tbody tr th:only-of-type {\n",
       "        vertical-align: middle;\n",
       "    }\n",
       "\n",
       "    .dataframe tbody tr th {\n",
       "        vertical-align: top;\n",
       "    }\n",
       "\n",
       "    .dataframe thead th {\n",
       "        text-align: right;\n",
       "    }\n",
       "</style>\n",
       "<table border=\"1\" class=\"dataframe\">\n",
       "  <thead>\n",
       "    <tr style=\"text-align: right;\">\n",
       "      <th></th>\n",
       "      <th>Ini</th>\n",
       "      <th>Fim</th>\n",
       "    </tr>\n",
       "  </thead>\n",
       "  <tbody>\n",
       "    <tr>\n",
       "      <th>0</th>\n",
       "      <td>40010000</td>\n",
       "      <td>40015969</td>\n",
       "    </tr>\n",
       "    <tr>\n",
       "      <th>0</th>\n",
       "      <td>40015976</td>\n",
       "      <td>40015999</td>\n",
       "    </tr>\n",
       "    <tr>\n",
       "      <th>1</th>\n",
       "      <td>40020000</td>\n",
       "      <td>40020999</td>\n",
       "    </tr>\n",
       "    <tr>\n",
       "      <th>2</th>\n",
       "      <td>40024000</td>\n",
       "      <td>40024999</td>\n",
       "    </tr>\n",
       "    <tr>\n",
       "      <th>3</th>\n",
       "      <td>40025000</td>\n",
       "      <td>40025999</td>\n",
       "    </tr>\n",
       "    <tr>\n",
       "      <th>4</th>\n",
       "      <td>40026000</td>\n",
       "      <td>40026999</td>\n",
       "    </tr>\n",
       "  </tbody>\n",
       "</table>\n",
       "</div>"
      ],
      "text/plain": [
       "        Ini       Fim\n",
       "0  40010000  40015969\n",
       "0  40015976  40015999\n",
       "1  40020000  40020999\n",
       "2  40024000  40024999\n",
       "3  40025000  40025999\n",
       "4  40026000  40026999"
      ]
     },
     "execution_count": 89,
     "metadata": {},
     "output_type": "execute_result"
    }
   ],
   "source": [
    "\n",
    "#CRIACAO DO PRIMEIRO DATAFRAME DF\n",
    "df = pd.DataFrame()\n",
    "df['Ini'] = [40010000, 40020000, 40024000, 40025000, 40026000]\n",
    "df['Fim'] = [40015999, 40020999, 40024999, 40025999, 40026999]\n",
    "\n",
    "#CRIACAO DO SEGUNDO DATAFRAME DF2\n",
    "df2 = pd.DataFrame()\n",
    "df2['Ini'] = [40015970]\n",
    "df2['Fim'] = [40015975]\n",
    "\n",
    "#ROTINA \n",
    "for i2, row2 in df2.iterrows(): #PARA CADA LINHA DO DF2 \n",
    "    for i, row in df.iterrows(): #PARA CADA LINHA DO DF\n",
    "        if row2['Ini'] <= row['Fim'] and row2['Ini'] > row['Ini']: #SE INICIO DA LINHA DO DF2 FOR MENOR/IGUAL QUE FIM DA LINHA DO DF E INICIO DA LINHA DO DF2 FOR MAIOR QUE INICIO DA LINHA NO DF....\n",
    "            previous_fim = row['Fim']  #GUARDA FIM ANTERIOR PARA QUANDO CRIARMOS REGISTRO ADICIONAL\n",
    "            df.at[i,'Fim'] = row2['Ini']-1 #ALTERA CEP FIM DA LINHA ALVO\n",
    "            line_to_append = {'Ini': row2['Fim']+1, 'Fim': previous_fim} #CRIA NOVA LINHA ADICIONAL\n",
    "            df = pd.concat([df, pd.DataFrame([line_to_append])], sort=False) #ADICIONA LINHA ADICIONAL\n",
    "\n",
    "\n",
    "df.sort_values(by='Ini') #VISUALIZA RESULTADO\n",
    "\n",
    "#REFERENCES:\n",
    "# https://stackoverflow.com/questions/16476924/how-to-iterate-over-rows-in-a-dataframe-in-pandas\n",
    "# https://stackoverflow.com/questions/23330654/update-a-dataframe-in-pandas-while-iterating-row-by-row\n",
    "# https://pandas.pydata.org/docs/reference/api/pandas.concat.html\n",
    "# https://stackoverflow.com/questions/18837262/convert-python-dict-into-a-dataframe"
   ]
  },
  {
   "cell_type": "markdown",
   "metadata": {},
   "source": [
    "## Segundo desenvolvimento"
   ]
  },
  {
   "cell_type": "code",
   "execution_count": 20,
   "metadata": {},
   "outputs": [
    {
     "data": {
      "text/html": [
       "<div>\n",
       "<style scoped>\n",
       "    .dataframe tbody tr th:only-of-type {\n",
       "        vertical-align: middle;\n",
       "    }\n",
       "\n",
       "    .dataframe tbody tr th {\n",
       "        vertical-align: top;\n",
       "    }\n",
       "\n",
       "    .dataframe thead th {\n",
       "        text-align: right;\n",
       "    }\n",
       "</style>\n",
       "<table border=\"1\" class=\"dataframe\">\n",
       "  <thead>\n",
       "    <tr style=\"text-align: right;\">\n",
       "      <th></th>\n",
       "      <th>Ini</th>\n",
       "      <th>Fim</th>\n",
       "      <th>Prazo</th>\n",
       "      <th>Ini2</th>\n",
       "      <th>Fim2</th>\n",
       "      <th>Prazo2</th>\n",
       "    </tr>\n",
       "  </thead>\n",
       "  <tbody>\n",
       "    <tr>\n",
       "      <th>0</th>\n",
       "      <td>120</td>\n",
       "      <td>150</td>\n",
       "      <td>5</td>\n",
       "      <td>100</td>\n",
       "      <td>250</td>\n",
       "      <td>3</td>\n",
       "    </tr>\n",
       "    <tr>\n",
       "      <th>1</th>\n",
       "      <td>270</td>\n",
       "      <td>330</td>\n",
       "      <td>7</td>\n",
       "      <td>250</td>\n",
       "      <td>335</td>\n",
       "      <td>3</td>\n",
       "    </tr>\n",
       "  </tbody>\n",
       "</table>\n",
       "</div>"
      ],
      "text/plain": [
       "   Ini  Fim  Prazo Ini2 Fim2 Prazo2\n",
       "0  120  150      5  100  250      3\n",
       "1  270  330      7  250  335      3"
      ]
     },
     "execution_count": 20,
     "metadata": {},
     "output_type": "execute_result"
    }
   ],
   "source": [
    "\n",
    "#CRIACAO DO PRIMEIRO DATAFRAME DF\n",
    "df = pd.DataFrame()\n",
    "df['Ini'] = [120, 270]\n",
    "df['Fim'] = [150, 330]\n",
    "df['Prazo'] = [5, 7]\n",
    "\n",
    "\n",
    "#CRIACAO DO SEGUNDO DATAFRAME DF2\n",
    "df2 = pd.DataFrame()\n",
    "df2['Ini'] = [100, 250]\n",
    "df2['Fim'] = [250, 335]\n",
    "df2['Prazo'] = [3, 3]\n",
    "\n",
    "\n",
    "#ROTINA \n",
    "for i2, row2 in df2.iterrows(): #PARA CADA LINHA DO DF2 \n",
    "    for i, row in df.iterrows(): #PARA CADA LINHA DO DF\n",
    "        if row2['Ini'] <= row['Fim'] : #SE INICIO DA LINHA DO DF2 FOR MENOR/IGUAL QUE FIM DA LINHA DO DF ...\n",
    "            #print(f\"{row2['Ini']} <= {row['Fim']}\") # PRINT PARA DEBUG\n",
    "            df.at[i,'Ini2'] = str(row2['Ini']) # ATUALIZAR APENAS A LINHA DESSA ITERECAO (df.at[i...])\n",
    "            df.at[i,'Fim2'] = str(row2['Fim']) # ATUALIZAR APENAS A LINHA DESSA ITERECAO (df.at[i...])\n",
    "            df.at[i,'Prazo2'] = str(row2['Prazo']) # ATUALIZAR APENAS A LINHA DESSA ITERECAO (df.at[i...])\n",
    "\n",
    "\n",
    "df.sort_values(by='Ini') #VISUALIZA RESULTADO\n"
   ]
  },
  {
   "cell_type": "code",
   "execution_count": null,
   "metadata": {},
   "outputs": [],
   "source": []
  }
 ],
 "metadata": {
  "interpreter": {
   "hash": "aeac741e067ebddcd166dfd2d5807f0eb6ca15772ef62a8f89a2141759802e86"
  },
  "kernelspec": {
   "display_name": "Python 3.10.2 ('.sandbox': venv)",
   "language": "python",
   "name": "python3"
  },
  "language_info": {
   "codemirror_mode": {
    "name": "ipython",
    "version": 3
   },
   "file_extension": ".py",
   "mimetype": "text/x-python",
   "name": "python",
   "nbconvert_exporter": "python",
   "pygments_lexer": "ipython3",
   "version": "3.10.2"
  },
  "orig_nbformat": 4
 },
 "nbformat": 4,
 "nbformat_minor": 2
}
